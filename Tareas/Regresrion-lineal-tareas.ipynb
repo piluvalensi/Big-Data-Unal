{
 "cells": [
  {
   "cell_type": "markdown",
   "id": "mature-screen",
   "metadata": {},
   "source": [
    "# **Regresión Lineal**\n",
    "### *Pilar Montenegro*\n",
    "\n",
    "![Imagen](https://www.excelfreeblog.com/wp-content/uploads/2015/12/Regresi%C3%B3n-lienal-excel.png)\n",
    " *Fuente: *[Excel free blog](https://www.excelfreeblog.com/pronostico-a-traves-de-una-regresion-lineal/)"
   ]
  },
  {
   "cell_type": "markdown",
   "id": "recorded-skirt",
   "metadata": {},
   "source": [
    "## Introducción \n",
    "\n",
    "La regresión Lineal es un método estadístico que ayuda a predecir el comportamiento  de una variable Dependiente **(Y)**  con respecto a una variable Independiente **(X)**, en el mundo real, resulta muy útil entender la relación que existe entre las diferentes variables de negocio, como por ejemplo, las ventas con los ingresos, y si nos detenemos a pensar, no es difícil entender que estas dos variables están fuertemente relacionadas.\n",
    "\n",
    "![Imagen](https://economipedia.com/wp-content/uploads/Regresi%C3%B3n-lineal.png)\n",
    "*Fuente* [Economipedia](https://economipedia.com/definiciones/modelo-de-regresion.html)"
   ]
  },
  {
   "cell_type": "markdown",
   "id": "cooked-convergence",
   "metadata": {},
   "source": [
    "## Breve Historia"
   ]
  },
  {
   "cell_type": "markdown",
   "id": "curious-danger",
   "metadata": {},
   "source": [
    "## El planteamiento del algortimo"
   ]
  },
  {
   "cell_type": "markdown",
   "id": "alternate-dining",
   "metadata": {},
   "source": [
    "## Ejemplo de regresión lineal, con datos reales"
   ]
  },
  {
   "cell_type": "markdown",
   "id": "virgin-involvement",
   "metadata": {},
   "source": [
    "## Conclusiones"
   ]
  }
 ],
 "metadata": {
  "kernelspec": {
   "display_name": "Python 3",
   "language": "python",
   "name": "python3"
  },
  "language_info": {
   "codemirror_mode": {
    "name": "ipython",
    "version": 3
   },
   "file_extension": ".py",
   "mimetype": "text/x-python",
   "name": "python",
   "nbconvert_exporter": "python",
   "pygments_lexer": "ipython3",
   "version": "3.8.5"
  }
 },
 "nbformat": 4,
 "nbformat_minor": 5
}
